{
 "cells": [
  {
   "cell_type": "code",
   "execution_count": 12,
   "metadata": {},
   "outputs": [
    {
     "data": {
      "text/plain": [
       "Index(['Ward No', 'Ward Name', 'AC#', 'Assembly constituency', 'LS#',\n",
       "       'MP Constituency', 'BBMP Zone Name', 'BBMP Division',\n",
       "       'BBMP Sub Division'],\n",
       "      dtype='object')"
      ]
     },
     "execution_count": 12,
     "metadata": {},
     "output_type": "execute_result"
    }
   ],
   "source": [
    "import pandas as pd\n",
    "\n",
    "df = pd.read_csv('Ward-AC-LS-Mapping.csv')\n",
    "df.columns"
   ]
  },
  {
   "cell_type": "code",
   "execution_count": 7,
   "metadata": {},
   "outputs": [
    {
     "data": {
      "text/html": [
       "<div>\n",
       "<style scoped>\n",
       "    .dataframe tbody tr th:only-of-type {\n",
       "        vertical-align: middle;\n",
       "    }\n",
       "\n",
       "    .dataframe tbody tr th {\n",
       "        vertical-align: top;\n",
       "    }\n",
       "\n",
       "    .dataframe thead th {\n",
       "        text-align: right;\n",
       "    }\n",
       "</style>\n",
       "<table border=\"1\" class=\"dataframe\">\n",
       "  <thead>\n",
       "    <tr style=\"text-align: right;\">\n",
       "      <th></th>\n",
       "      <th>AC#</th>\n",
       "      <th>LS#</th>\n",
       "    </tr>\n",
       "  </thead>\n",
       "  <tbody>\n",
       "    <tr>\n",
       "      <th>3</th>\n",
       "      <td>150</td>\n",
       "      <td>23</td>\n",
       "    </tr>\n",
       "    <tr>\n",
       "      <th>10</th>\n",
       "      <td>152</td>\n",
       "      <td>24</td>\n",
       "    </tr>\n",
       "    <tr>\n",
       "      <th>45</th>\n",
       "      <td>158</td>\n",
       "      <td>24</td>\n",
       "    </tr>\n",
       "    <tr>\n",
       "      <th>58</th>\n",
       "      <td>160</td>\n",
       "      <td>24</td>\n",
       "    </tr>\n",
       "    <tr>\n",
       "      <th>70</th>\n",
       "      <td>155</td>\n",
       "      <td>24</td>\n",
       "    </tr>\n",
       "    <tr>\n",
       "      <th>75</th>\n",
       "      <td>157</td>\n",
       "      <td>24</td>\n",
       "    </tr>\n",
       "    <tr>\n",
       "      <th>77</th>\n",
       "      <td>159</td>\n",
       "      <td>24</td>\n",
       "    </tr>\n",
       "    <tr>\n",
       "      <th>86</th>\n",
       "      <td>151</td>\n",
       "      <td>24</td>\n",
       "    </tr>\n",
       "    <tr>\n",
       "      <th>101</th>\n",
       "      <td>156</td>\n",
       "      <td>24</td>\n",
       "    </tr>\n",
       "    <tr>\n",
       "      <th>107</th>\n",
       "      <td>165</td>\n",
       "      <td>25</td>\n",
       "    </tr>\n",
       "    <tr>\n",
       "      <th>109</th>\n",
       "      <td>162</td>\n",
       "      <td>25</td>\n",
       "    </tr>\n",
       "    <tr>\n",
       "      <th>112</th>\n",
       "      <td>161</td>\n",
       "      <td>24</td>\n",
       "    </tr>\n",
       "    <tr>\n",
       "      <th>116</th>\n",
       "      <td>163</td>\n",
       "      <td>25</td>\n",
       "    </tr>\n",
       "    <tr>\n",
       "      <th>120</th>\n",
       "      <td>164</td>\n",
       "      <td>25</td>\n",
       "    </tr>\n",
       "    <tr>\n",
       "      <th>130</th>\n",
       "      <td>166</td>\n",
       "      <td>26</td>\n",
       "    </tr>\n",
       "    <tr>\n",
       "      <th>140</th>\n",
       "      <td>168</td>\n",
       "      <td>25</td>\n",
       "    </tr>\n",
       "    <tr>\n",
       "      <th>149</th>\n",
       "      <td>174</td>\n",
       "      <td>25</td>\n",
       "    </tr>\n",
       "    <tr>\n",
       "      <th>152</th>\n",
       "      <td>169</td>\n",
       "      <td>25</td>\n",
       "    </tr>\n",
       "    <tr>\n",
       "      <th>157</th>\n",
       "      <td>167</td>\n",
       "      <td>26</td>\n",
       "    </tr>\n",
       "    <tr>\n",
       "      <th>159</th>\n",
       "      <td>154</td>\n",
       "      <td>25</td>\n",
       "    </tr>\n",
       "    <tr>\n",
       "      <th>163</th>\n",
       "      <td>170</td>\n",
       "      <td>26</td>\n",
       "    </tr>\n",
       "    <tr>\n",
       "      <th>175</th>\n",
       "      <td>172</td>\n",
       "      <td>26</td>\n",
       "    </tr>\n",
       "    <tr>\n",
       "      <th>178</th>\n",
       "      <td>173</td>\n",
       "      <td>26</td>\n",
       "    </tr>\n",
       "    <tr>\n",
       "      <th>182</th>\n",
       "      <td>171</td>\n",
       "      <td>26</td>\n",
       "    </tr>\n",
       "    <tr>\n",
       "      <th>192</th>\n",
       "      <td>175</td>\n",
       "      <td>26</td>\n",
       "    </tr>\n",
       "    <tr>\n",
       "      <th>196</th>\n",
       "      <td>176</td>\n",
       "      <td>23</td>\n",
       "    </tr>\n",
       "    <tr>\n",
       "      <th>197</th>\n",
       "      <td>153</td>\n",
       "      <td>24</td>\n",
       "    </tr>\n",
       "  </tbody>\n",
       "</table>\n",
       "</div>"
      ],
      "text/plain": [
       "     AC#  LS#\n",
       "3    150   23\n",
       "10   152   24\n",
       "45   158   24\n",
       "58   160   24\n",
       "70   155   24\n",
       "75   157   24\n",
       "77   159   24\n",
       "86   151   24\n",
       "101  156   24\n",
       "107  165   25\n",
       "109  162   25\n",
       "112  161   24\n",
       "116  163   25\n",
       "120  164   25\n",
       "130  166   26\n",
       "140  168   25\n",
       "149  174   25\n",
       "152  169   25\n",
       "157  167   26\n",
       "159  154   25\n",
       "163  170   26\n",
       "175  172   26\n",
       "178  173   26\n",
       "182  171   26\n",
       "192  175   26\n",
       "196  176   23\n",
       "197  153   24"
      ]
     },
     "execution_count": 7,
     "metadata": {},
     "output_type": "execute_result"
    }
   ],
   "source": [
    "lookup_df = df[['AC#', 'LS#']].drop_duplicates('AC#', keep='last')\n",
    "lookup_df"
   ]
  },
  {
   "cell_type": "code",
   "execution_count": 14,
   "metadata": {},
   "outputs": [
    {
     "data": {
      "text/plain": [
       "{150: 23,\n",
       " 152: 24,\n",
       " 155: 24,\n",
       " 154: 25,\n",
       " 158: 24,\n",
       " 160: 24,\n",
       " 151: 24,\n",
       " 159: 24,\n",
       " 157: 24,\n",
       " 153: 24,\n",
       " 156: 24,\n",
       " 161: 24,\n",
       " 174: 25,\n",
       " 162: 25,\n",
       " 164: 25,\n",
       " 163: 25,\n",
       " 165: 25,\n",
       " 166: 26,\n",
       " 169: 25,\n",
       " 167: 26,\n",
       " 168: 25,\n",
       " 172: 26,\n",
       " 170: 26,\n",
       " 171: 26,\n",
       " 173: 26,\n",
       " 175: 26,\n",
       " 176: 23}"
      ]
     },
     "execution_count": 14,
     "metadata": {},
     "output_type": "execute_result"
    }
   ],
   "source": [
    "#dict(zip(lookup_df['AC#'], lookup_df['LS#']))\n",
    "dict(zip(df['AC#'], df['LS#']))"
   ]
  },
  {
   "cell_type": "code",
   "execution_count": 10,
   "metadata": {},
   "outputs": [],
   "source": [
    "ac2ls = dict(zip(lookup_df['AC#'], lookup_df['LS#']))"
   ]
  },
  {
   "cell_type": "code",
   "execution_count": 11,
   "metadata": {},
   "outputs": [],
   "source": [
    "ls_name_of = {\n",
    "            '23': 'Bangalore Rural',\n",
    "            '24': 'Bangalore North',\n",
    "            '25': 'Bangalore Central',\n",
    "            '26': 'Bangalore South',\n",
    "            '27': 'Chikkabalapura',\n",
    "        }"
   ]
  },
  {
   "cell_type": "code",
   "execution_count": 13,
   "metadata": {},
   "outputs": [
    {
     "data": {
      "text/plain": [
       "{150: 'Yelahanka',\n",
       " 152: 'Byatarayanapura',\n",
       " 155: 'Dasarahalli',\n",
       " 154: 'Rajarajeswari Nagar',\n",
       " 158: 'Hebbal',\n",
       " 160: 'Sarvagna Nagar',\n",
       " 151: 'K.R. Puram',\n",
       " 159: 'Pulakeshi Nagar (SC)',\n",
       " 157: 'Malleshwaram',\n",
       " 153: 'Yeshwantpura',\n",
       " 156: 'Mahalakshmi Layout',\n",
       " 161: 'C.V. Ramannagar (SC)',\n",
       " 174: 'Mahadevapura',\n",
       " 162: 'Shivaji Nagar',\n",
       " 164: 'Gandhi Nagar',\n",
       " 163: 'Shanthi Nagar',\n",
       " 165: 'Rajaji Nagar',\n",
       " 166: 'Govindaraja Nagar',\n",
       " 169: 'Chickpet',\n",
       " 167: 'ViJayanagar',\n",
       " 168: 'Chamarajpet',\n",
       " 172: 'B.T.M. Layout',\n",
       " 170: 'Basavanagudi',\n",
       " 171: 'Padmanaba Nagar',\n",
       " 173: 'Jayanagar',\n",
       " 175: 'Bommanahalli',\n",
       " 176: 'Bangalore South'}"
      ]
     },
     "execution_count": 13,
     "metadata": {},
     "output_type": "execute_result"
    }
   ],
   "source": [
    "dict(zip(df['AC#'], df['Assembly constituency']))\n"
   ]
  },
  {
   "cell_type": "code",
   "execution_count": 34,
   "metadata": {},
   "outputs": [
    {
     "data": {
      "text/plain": [
       "'26 - Bangalore South/175 - Bommanahalli'"
      ]
     },
     "execution_count": 34,
     "metadata": {},
     "output_type": "execute_result"
    }
   ],
   "source": [
    "ac_no = 175\n",
    "ac_name_of = dict(zip(df['AC#'], df['Assembly constituency']))\n",
    "ls = ac2ls[ac_no]\n",
    "dir_name = f'{ls} - {ls_name_of[str(ls)]}/{ac_no} - {ac_name_of[ac_no]}' \n",
    "dir_name"
   ]
  },
  {
   "cell_type": "code",
   "execution_count": 35,
   "metadata": {},
   "outputs": [],
   "source": [
    "import os\n",
    "if not os.path.exists(dir_name):\n",
    "    os.makedirs(dir_name)\n"
   ]
  },
  {
   "cell_type": "code",
   "execution_count": 38,
   "metadata": {},
   "outputs": [
    {
     "data": {
      "text/plain": [
       "'26 - Bangalore South/175 - Bommanahalli/31_164_1.pdf'"
      ]
     },
     "execution_count": 38,
     "metadata": {},
     "output_type": "execute_result"
    }
   ],
   "source": [
    "filename = '26 - Bangalore South/175 - Bommanahalli/31_164_1.pdf'\n",
    "os.path.basename(filename)\n",
    "dest_file = f'{dir_name}/{os.path.basename(filename)}'\n",
    "dest_file"
   ]
  },
  {
   "cell_type": "code",
   "execution_count": null,
   "metadata": {},
   "outputs": [],
   "source": []
  }
 ],
 "metadata": {
  "kernelspec": {
   "display_name": "Python 3",
   "language": "python",
   "name": "python3"
  },
  "language_info": {
   "codemirror_mode": {
    "name": "ipython",
    "version": 3
   },
   "file_extension": ".py",
   "mimetype": "text/x-python",
   "name": "python",
   "nbconvert_exporter": "python",
   "pygments_lexer": "ipython3",
   "version": "3.7.7"
  }
 },
 "nbformat": 4,
 "nbformat_minor": 2
}
