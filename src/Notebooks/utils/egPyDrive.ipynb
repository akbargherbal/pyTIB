{
 "cells": [
  {
   "cell_type": "code",
   "execution_count": 11,
   "metadata": {
    "autoscroll": false,
    "ein.hycell": false,
    "ein.tags": "worksheet-0",
    "slideshow": {
     "slide_type": "-"
    }
   },
   "outputs": [],
   "source": [
    "#!pip install pydrive\n",
    "from pydrive.auth import GoogleAuth\n",
    "from pydrive.drive import GoogleDrive\n",
    "\n",
    "gauth = GoogleAuth()\n"
   ]
  },
  {
   "cell_type": "code",
   "execution_count": 13,
   "metadata": {
    "autoscroll": false,
    "ein.hycell": false,
    "ein.tags": "worksheet-0",
    "slideshow": {
     "slide_type": "-"
    }
   },
   "outputs": [
    {
     "name": "stdout",
     "output_type": "stream",
     "text": [
      "Your browser has been opened to visit:\n",
      "\n",
      "    https://accounts.google.com/o/oauth2/auth?client_id=471868114610-8ctcuk6flrk0ei0f0dn2l0ji1e5p5b8f.apps.googleusercontent.com&redirect_uri=http%3A%2F%2Flocalhost%3A8090%2F&scope=https%3A%2F%2Fwww.googleapis.com%2Fauth%2Fdrive&access_type=offline&response_type=code\n",
      "\n",
      "Authentication successful.\n"
     ]
    }
   ],
   "source": [
    "gauth.LocalWebserverAuth()\n",
    "drive = GoogleDrive(gauth)\n"
   ]
  },
  {
   "cell_type": "code",
   "execution_count": 14,
   "metadata": {
    "autoscroll": false,
    "ein.hycell": false,
    "ein.tags": "worksheet-0",
    "slideshow": {
     "slide_type": "-"
    }
   },
   "outputs": [],
   "source": [
    "file1 = drive.CreateFile({'title': 'Hello.txt'})\n",
    "file1.SetContentString('Hello')\n",
    "file1.Upload() # Files.insert()\n",
    "\n",
    "file1['title'] = 'HelloWorld.txt'  # Change title of the file\n",
    "file1.Upload() # Files.patch()"
   ]
  },
  {
   "cell_type": "code",
   "execution_count": null,
   "metadata": {
    "autoscroll": false,
    "ein.hycell": false,
    "ein.tags": "worksheet-0",
    "slideshow": {
     "slide_type": "-"
    }
   },
   "outputs": [],
   "source": []
  },
  {
   "cell_type": "code",
   "execution_count": 15,
   "metadata": {
    "autoscroll": false,
    "ein.hycell": false,
    "ein.tags": "worksheet-0",
    "slideshow": {
     "slide_type": "-"
    }
   },
   "outputs": [
    {
     "ename": "FileNotFoundError",
     "evalue": "[Errno 2] No such file or directory: 'BBMP 2020 - Campaign Related/PDF Voter Lists - English/31_154_5.pdf'",
     "output_type": "error",
     "traceback": [
      "\u001b[0;31m---------------------------------------------------------------------------\u001b[0m",
      "\u001b[0;31mFileNotFoundError\u001b[0m                         Traceback (most recent call last)",
      "\u001b[0;32m<ipython-input-15-147a09a94ffd>\u001b[0m in \u001b[0;36m<module>\u001b[0;34m\u001b[0m\n\u001b[1;32m      1\u001b[0m \u001b[0mfile2\u001b[0m \u001b[0;34m=\u001b[0m \u001b[0mdrive\u001b[0m\u001b[0;34m.\u001b[0m\u001b[0mCreateFile\u001b[0m\u001b[0;34m(\u001b[0m\u001b[0;34m)\u001b[0m\u001b[0;34m\u001b[0m\u001b[0;34m\u001b[0m\u001b[0m\n\u001b[0;32m----> 2\u001b[0;31m \u001b[0mfile2\u001b[0m\u001b[0;34m.\u001b[0m\u001b[0mSetContentFile\u001b[0m\u001b[0;34m(\u001b[0m\u001b[0;34m'BBMP 2020 - Campaign Related/PDF Voter Lists - English/31_154_5.pdf'\u001b[0m\u001b[0;34m)\u001b[0m\u001b[0;34m\u001b[0m\u001b[0;34m\u001b[0m\u001b[0m\n\u001b[0m\u001b[1;32m      3\u001b[0m \u001b[0mfile2\u001b[0m\u001b[0;34m.\u001b[0m\u001b[0mUpload\u001b[0m\u001b[0;34m(\u001b[0m\u001b[0;34m)\u001b[0m\u001b[0;34m\u001b[0m\u001b[0;34m\u001b[0m\u001b[0m\n\u001b[1;32m      4\u001b[0m print('Created file %s with mimeType %s' % (file2['title'],\n\u001b[1;32m      5\u001b[0m                                             file2['mimeType']))\n",
      "\u001b[0;32m~/repo/pyTIB/venv/lib/python3.7/site-packages/pydrive/files.py\u001b[0m in \u001b[0;36mSetContentFile\u001b[0;34m(self, filename)\u001b[0m\n\u001b[1;32m    167\u001b[0m     \u001b[0;34m:\u001b[0m\u001b[0mtype\u001b[0m \u001b[0mfilename\u001b[0m\u001b[0;34m:\u001b[0m \u001b[0mstr\u001b[0m\u001b[0;34m.\u001b[0m\u001b[0;34m\u001b[0m\u001b[0;34m\u001b[0m\u001b[0m\n\u001b[1;32m    168\u001b[0m     \"\"\"\n\u001b[0;32m--> 169\u001b[0;31m     \u001b[0mself\u001b[0m\u001b[0;34m.\u001b[0m\u001b[0mcontent\u001b[0m \u001b[0;34m=\u001b[0m \u001b[0mopen\u001b[0m\u001b[0;34m(\u001b[0m\u001b[0mfilename\u001b[0m\u001b[0;34m,\u001b[0m \u001b[0;34m'rb'\u001b[0m\u001b[0;34m)\u001b[0m\u001b[0;34m\u001b[0m\u001b[0;34m\u001b[0m\u001b[0m\n\u001b[0m\u001b[1;32m    170\u001b[0m     \u001b[0;32mif\u001b[0m \u001b[0mself\u001b[0m\u001b[0;34m.\u001b[0m\u001b[0mget\u001b[0m\u001b[0;34m(\u001b[0m\u001b[0;34m'title'\u001b[0m\u001b[0;34m)\u001b[0m \u001b[0;32mis\u001b[0m \u001b[0;32mNone\u001b[0m\u001b[0;34m:\u001b[0m\u001b[0;34m\u001b[0m\u001b[0;34m\u001b[0m\u001b[0m\n\u001b[1;32m    171\u001b[0m       \u001b[0mself\u001b[0m\u001b[0;34m[\u001b[0m\u001b[0;34m'title'\u001b[0m\u001b[0;34m]\u001b[0m \u001b[0;34m=\u001b[0m \u001b[0mfilename\u001b[0m\u001b[0;34m\u001b[0m\u001b[0;34m\u001b[0m\u001b[0m\n",
      "\u001b[0;31mFileNotFoundError\u001b[0m: [Errno 2] No such file or directory: 'BBMP 2020 - Campaign Related/PDF Voter Lists - English/31_154_5.pdf'"
     ]
    }
   ],
   "source": [
    "file2 = drive.CreateFile()\n",
    "file2.SetContentFile('BBMP 2020 - Campaign Related/PDF Voter Lists - English/31_154_5.pdf')\n",
    "file2.Upload()\n",
    "print('Created file %s with mimeType %s' % (file2['title'],\n",
    "                                            file2['mimeType']))"
   ]
  },
  {
   "cell_type": "code",
   "execution_count": 12,
   "metadata": {
    "autoscroll": false,
    "ein.hycell": false,
    "ein.tags": "worksheet-0",
    "slideshow": {
     "slide_type": "-"
    }
   },
   "outputs": [
    {
     "name": "stdout",
     "output_type": "stream",
     "text": [
      "Downloading file /home/mayank/libtech/src/scripts/Test/31_154_5.pdf from Google Drive\n"
     ]
    }
   ],
   "source": [
    "file3 = drive.CreateFile({'id': file2['id']})\n",
    "print('Downloading file %s from Google Drive' % file3['title']) # 'hello.png'\n",
    "file3.GetContentFile('/tmp/31_154_5.pdf')  # Save Drive file as a local file\n"
   ]
  },
  {
   "cell_type": "code",
   "execution_count": 14,
   "metadata": {
    "autoscroll": false,
    "ein.hycell": false,
    "ein.tags": "worksheet-0",
    "slideshow": {
     "slide_type": "-"
    }
   },
   "outputs": [],
   "source": [
    "# or download Google Docs files in an export format provided.\n",
    "# downloading a docs document as an html file:\n",
    "file3.GetContentFile('/tmp/31_154_5.html', mimetype='text/html')\n"
   ]
  },
  {
   "cell_type": "code",
   "execution_count": 17,
   "metadata": {
    "autoscroll": false,
    "ein.hycell": false,
    "ein.tags": "worksheet-0",
    "slideshow": {
     "slide_type": "-"
    }
   },
   "outputs": [
    {
     "name": "stdout",
     "output_type": "stream",
     "text": [
      "title: Test, id: 1cfwBpYSFcMTSa4wNRhaU9oY5ePUjF9dg\n"
     ]
    }
   ],
   "source": [
    "# Create folder.\n",
    "folder_metadata = {\n",
    "    'title' : 'Test',\n",
    "    # The mimetype defines this new file as a folder, so don't change this.\n",
    "    'mimeType' : 'application/vnd.google-apps.folder'\n",
    "}\n",
    "folder = drive.CreateFile(folder_metadata)\n",
    "folder.Upload()\n",
    "\n",
    "# Get folder info and print to screen.\n",
    "folder_title = folder['title']\n",
    "folder_id = folder['id']\n",
    "print('title: %s, id: %s' % (folder_title, folder_id))\n"
   ]
  },
  {
   "cell_type": "code",
   "execution_count": 18,
   "metadata": {
    "autoscroll": false,
    "ein.hycell": false,
    "ein.tags": "worksheet-0",
    "slideshow": {
     "slide_type": "-"
    }
   },
   "outputs": [],
   "source": [
    "# Upload file to folder.\n",
    "f = drive.CreateFile({\"parents\": [{\"kind\": \"drive#fileLink\", \"id\": folder_id}]})\n",
    "\n",
    "# Make sure to add the path to the file to upload below.\n",
    "f.SetContentFile('/tmp/z.txt')\n",
    "f.Upload()\n"
   ]
  },
  {
   "cell_type": "code",
   "execution_count": 21,
   "metadata": {
    "autoscroll": false,
    "ein.hycell": false,
    "ein.tags": "worksheet-0",
    "slideshow": {
     "slide_type": "-"
    }
   },
   "outputs": [
    {
     "name": "stdout",
     "output_type": "stream",
     "text": [
      "title: SubFolder, id: 1zbcp9PxJbAe7WtoqK4PaU_5ICQyicSna\n",
      "GoogleDriveFile({'title': 'SubFolder', 'mimeType': 'application/vnd.google-apps.folder', 'parents': [{'kind': 'drive#parentReference', 'id': '1cfwBpYSFcMTSa4wNRhaU9oY5ePUjF9dg', 'selfLink': 'https://www.googleapis.com/drive/v2/files/1zbcp9PxJbAe7WtoqK4PaU_5ICQyicSna/parents/1cfwBpYSFcMTSa4wNRhaU9oY5ePUjF9dg', 'parentLink': 'https://www.googleapis.com/drive/v2/files/1cfwBpYSFcMTSa4wNRhaU9oY5ePUjF9dg', 'isRoot': False}], 'kind': 'drive#file', 'id': '1zbcp9PxJbAe7WtoqK4PaU_5ICQyicSna', 'etag': '\"MTU5MTg5NjUzNTMyNg\"', 'selfLink': 'https://www.googleapis.com/drive/v2/files/1zbcp9PxJbAe7WtoqK4PaU_5ICQyicSna', 'alternateLink': 'https://drive.google.com/drive/folders/1zbcp9PxJbAe7WtoqK4PaU_5ICQyicSna', 'embedLink': 'https://drive.google.com/embeddedfolderview?id=1zbcp9PxJbAe7WtoqK4PaU_5ICQyicSna', 'iconLink': 'https://drive-thirdparty.googleusercontent.com/16/type/application/vnd.google-apps.folder+48', 'labels': {'starred': False, 'hidden': False, 'trashed': False, 'restricted': False, 'viewed': True}, 'copyRequiresWriterPermission': False, 'createdDate': '2020-06-11T17:28:55.326Z', 'modifiedDate': '2020-06-11T17:28:55.326Z', 'modifiedByMeDate': '2020-06-11T17:28:55.326Z', 'lastViewedByMeDate': '2020-06-11T17:28:55.326Z', 'markedViewedByMeDate': '1970-01-01T00:00:00.000Z', 'version': '1', 'userPermission': {'kind': 'drive#permission', 'etag': '\"RJPJxEldqmPG0poXNen0F2_gaFw\"', 'id': 'me', 'selfLink': 'https://www.googleapis.com/drive/v2/files/1zbcp9PxJbAe7WtoqK4PaU_5ICQyicSna/permissions/me', 'role': 'owner', 'type': 'user'}, 'quotaBytesUsed': '0', 'ownerNames': ['AAP Karnataka Technology Cell'], 'owners': [{'kind': 'drive#user', 'displayName': 'AAP Karnataka Technology Cell', 'isAuthenticatedUser': True, 'permissionId': '06258608771720382915', 'emailAddress': 'aapkatechcell@gmail.com'}], 'lastModifyingUserName': 'AAP Karnataka Technology Cell', 'lastModifyingUser': {'kind': 'drive#user', 'displayName': 'AAP Karnataka Technology Cell', 'isAuthenticatedUser': True, 'permissionId': '06258608771720382915', 'emailAddress': 'aapkatechcell@gmail.com'}, 'capabilities': {'canCopy': False, 'canEdit': True}, 'editable': True, 'copyable': False, 'writersCanShare': True, 'shared': False, 'explicitlyTrashed': False, 'appDataContents': False, 'spaces': ['drive']})\n"
     ]
    }
   ],
   "source": [
    "# Upload file to folder.\n",
    "#f = drive.CreateFile({\"parents\": [{\"kind\": \"drive#fileLink\", \"id\": folder_id}]})\n",
    "# Create folder.\n",
    "folder_metadata = {\n",
    "    'title' : 'SubFolder',\n",
    "    # The mimetype defines this new file as a folder, so don't change this.\n",
    "    'mimeType' : 'application/vnd.google-apps.folder',\n",
    "    \"parents\": [{\"kind\": \"drive#fileLink\", \"id\": folder_id}]\n",
    "}\n",
    "folder = drive.CreateFile(folder_metadata)\n",
    "folder.Upload()\n",
    "\n",
    "# Get folder info and print to screen.\n",
    "folder_title = folder['title']\n",
    "folder_id = folder['id']\n",
    "print('title: %s, id: %s' % (folder_title, folder_id))\n",
    "print(folder)"
   ]
  },
  {
   "cell_type": "code",
   "execution_count": 16,
   "metadata": {
    "autoscroll": false,
    "ein.hycell": false,
    "ein.tags": "worksheet-0",
    "slideshow": {
     "slide_type": "-"
    }
   },
   "outputs": [
    {
     "ename": "FileNotFoundError",
     "evalue": "[Errno 2] No such file or directory: '31_154_5.pdf'",
     "output_type": "error",
     "traceback": [
      "\u001b[0;31m---------------------------------------------------------------------------\u001b[0m",
      "\u001b[0;31mFileNotFoundError\u001b[0m                         Traceback (most recent call last)",
      "\u001b[0;32m<ipython-input-16-9e926e0230d3>\u001b[0m in \u001b[0;36m<module>\u001b[0;34m\u001b[0m\n\u001b[1;32m      4\u001b[0m \u001b[0;34m\u001b[0m\u001b[0m\n\u001b[1;32m      5\u001b[0m \u001b[0;31m# Make sure to add the path to the file to upload below.\u001b[0m\u001b[0;34m\u001b[0m\u001b[0;34m\u001b[0m\u001b[0;34m\u001b[0m\u001b[0m\n\u001b[0;32m----> 6\u001b[0;31m \u001b[0mf\u001b[0m\u001b[0;34m.\u001b[0m\u001b[0mSetContentFile\u001b[0m\u001b[0;34m(\u001b[0m\u001b[0;34m'31_154_5.pdf'\u001b[0m\u001b[0;34m)\u001b[0m\u001b[0;34m\u001b[0m\u001b[0;34m\u001b[0m\u001b[0m\n\u001b[0m\u001b[1;32m      7\u001b[0m \u001b[0mf\u001b[0m\u001b[0;34m.\u001b[0m\u001b[0mUpload\u001b[0m\u001b[0;34m(\u001b[0m\u001b[0;34m)\u001b[0m\u001b[0;34m\u001b[0m\u001b[0;34m\u001b[0m\u001b[0m\n",
      "\u001b[0;32m~/repo/pyTIB/venv/lib/python3.7/site-packages/pydrive/files.py\u001b[0m in \u001b[0;36mSetContentFile\u001b[0;34m(self, filename)\u001b[0m\n\u001b[1;32m    167\u001b[0m     \u001b[0;34m:\u001b[0m\u001b[0mtype\u001b[0m \u001b[0mfilename\u001b[0m\u001b[0;34m:\u001b[0m \u001b[0mstr\u001b[0m\u001b[0;34m.\u001b[0m\u001b[0;34m\u001b[0m\u001b[0;34m\u001b[0m\u001b[0m\n\u001b[1;32m    168\u001b[0m     \"\"\"\n\u001b[0;32m--> 169\u001b[0;31m     \u001b[0mself\u001b[0m\u001b[0;34m.\u001b[0m\u001b[0mcontent\u001b[0m \u001b[0;34m=\u001b[0m \u001b[0mopen\u001b[0m\u001b[0;34m(\u001b[0m\u001b[0mfilename\u001b[0m\u001b[0;34m,\u001b[0m \u001b[0;34m'rb'\u001b[0m\u001b[0;34m)\u001b[0m\u001b[0;34m\u001b[0m\u001b[0;34m\u001b[0m\u001b[0m\n\u001b[0m\u001b[1;32m    170\u001b[0m     \u001b[0;32mif\u001b[0m \u001b[0mself\u001b[0m\u001b[0;34m.\u001b[0m\u001b[0mget\u001b[0m\u001b[0;34m(\u001b[0m\u001b[0;34m'title'\u001b[0m\u001b[0;34m)\u001b[0m \u001b[0;32mis\u001b[0m \u001b[0;32mNone\u001b[0m\u001b[0;34m:\u001b[0m\u001b[0;34m\u001b[0m\u001b[0;34m\u001b[0m\u001b[0m\n\u001b[1;32m    171\u001b[0m       \u001b[0mself\u001b[0m\u001b[0;34m[\u001b[0m\u001b[0;34m'title'\u001b[0m\u001b[0;34m]\u001b[0m \u001b[0;34m=\u001b[0m \u001b[0mfilename\u001b[0m\u001b[0;34m\u001b[0m\u001b[0;34m\u001b[0m\u001b[0m\n",
      "\u001b[0;31mFileNotFoundError\u001b[0m: [Errno 2] No such file or directory: '31_154_5.pdf'"
     ]
    }
   ],
   "source": [
    "# Upload file to folder.\n",
    "folder_id = '1wu8tHZOuvvio8ZG_dDq4F7-CGIeY-YqD'\n",
    "f = drive.CreateFile({'parents': [{'id': folder_id}]})\n",
    "\n",
    "# Make sure to add the path to the file to upload below.\n",
    "f.SetContentFile('31_154_5.pdf')\n",
    "f.Upload()\n"
   ]
  },
  {
   "cell_type": "code",
   "execution_count": 19,
   "metadata": {},
   "outputs": [
    {
     "name": "stdout",
     "output_type": "stream",
     "text": [
      "Title: Test, ID: 1cfwBpYSFcMTSa4wNRhaU9oY5ePUjF9dg\n",
      "Title: BBMP 2020 - Campaign Related, ID: 1YSiM3mWMcEUp9vdPi86EHJA7bB0x8Bbz\n",
      "Title: Mysore Voter List, ID: 1EmtybIZbrv-Jq0IZ-nEmVUnuSbC0lfzM\n",
      "Title: DSC_0595.MOV, ID: 1XQHhH3gFDTYSG36wABVXMepVV5x41kh8\n",
      "Title: 3132868880076029-record.mov, ID: 1YjIR4RqUlVNvbPYAFGIXkqui-Mr1jQgj\n",
      "Title: Social Media, ID: 1JGAyPJzdL7wW6uP7Kd-vHmWVp3sikLV6\n",
      "Title: Templates, ID: 1Qil5sTxa4ej_ZdF_ws2_x7s35s_5D-yY\n",
      "Title: Intern4AAP, ID: 1loEdm0HayCu8JZUDCyJknU6yV4mFTe2B\n",
      "Title: Videos, ID: 1TpY2BnVxzCRYvurDj0Va1KJD0_xJWfHz\n",
      "Title: aap-fb-page.pptx, ID: 1ZGpyAS5FotrIrziII35rFTB5zaV8flo9\n",
      "Title: Leaders Profile Photos, ID: 1bQ8cpJxEoAUfP9-fpOpihP6aRijaMtId\n",
      "Title: Digital Marketing, ID: 1ZX0V_8eBFFR09ECAPEdhsQWClm0YmWGy\n",
      "Title: Nagaraju-PORTFOLIO, ID: 1kXvSb9e7SGkW2c1mlBwhNHCRjuLqRjFo\n",
      "Found the desired folder ID[1YSiM3mWMcEUp9vdPi86EHJA7bB0x8Bbz]\n"
     ]
    }
   ],
   "source": [
    "fileList = drive.ListFile({'q': \"'root' in parents and trashed=false\"}).GetList()\n",
    "for file in fileList:\n",
    "  print('Title: %s, ID: %s' % (file['title'], file['id']))\n",
    "  # Get the folder ID that you want\n",
    "  if(file['title'] == 'BBMP 2020 - Campaign Related'):\n",
    "      folder_id = file['id']\n",
    "print(f'Found the desired folder ID[{folder_id}]')"
   ]
  },
  {
   "cell_type": "code",
   "execution_count": null,
   "metadata": {},
   "outputs": [],
   "source": [
    "# Upload file to folder.\n",
    "folder_id = '1wu8tHZOuvvio8ZG_dDq4F7-CGIeY-YqD'\n",
    "f = drive.CreateFile({'parents': [{'id': folder_id}]})\n",
    "\n",
    "# Make sure to add the path to the file to upload below.\n",
    "f.SetContentFile('31_154_5.pdf')\n",
    "f.Upload()\n"
   ]
  },
  {
   "cell_type": "code",
   "execution_count": null,
   "metadata": {},
   "outputs": [],
   "source": [
    "# Upload a folder to gDrive -\n",
    "#     https://gist.github.com/jmlrt/f524e1a45205a0b9f169eb713a223330\n"
   ]
  }
 ],
 "metadata": {
  "kernelspec": {
   "display_name": "Python 3",
   "language": "python",
   "name": "python3"
  },
  "language_info": {
   "codemirror_mode": {
    "name": "ipython",
    "version": 3
   },
   "file_extension": ".py",
   "mimetype": "text/x-python",
   "name": "python",
   "nbconvert_exporter": "python",
   "pygments_lexer": "ipython3",
   "version": "3.7.7"
  },
  "name": "Untitled.ipynb"
 },
 "nbformat": 4,
 "nbformat_minor": 2
}
